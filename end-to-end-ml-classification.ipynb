{
 "cells": [
  {
   "cell_type": "code",
   "execution_count": null,
   "metadata": {
    "execution": {
     "iopub.execute_input": "2025-03-10T05:36:38.134101Z",
     "iopub.status.busy": "2025-03-10T05:36:38.13377Z",
     "iopub.status.idle": "2025-03-10T05:36:38.142864Z",
     "shell.execute_reply": "2025-03-10T05:36:38.141571Z",
     "shell.execute_reply.started": "2025-03-10T05:36:38.13407Z"
    },
    "trusted": true
   },
   "outputs": [],
   "source": [
    "import numpy as np\n",
    "import pandas as pd\n",
    "\n",
    "import matplotlib.pyplot as plt\n",
    "import plotly.express as px\n",
    "\n",
    "import plotly.io as pio\n",
    "pio.renderers.default = \"iframe\"\n",
    "\n",
    "from sklearn.decomposition import PCA\n",
    "\n",
    "from sklearn.preprocessing import StandardScaler\n",
    "from sklearn.model_selection import train_test_split\n",
    "from sklearn.model_selection import cross_val_score\n",
    "from sklearn.model_selection import GridSearchCV, RandomizedSearchCV\n",
    "\n",
    "from sklearn.metrics import accuracy_score\n",
    "from sklearn.metrics import precision_score, recall_score, f1_score\n",
    "\n",
    "import pickle "
   ]
  },
  {
   "cell_type": "code",
   "execution_count": null,
   "metadata": {
    "execution": {
     "iopub.execute_input": "2025-03-10T05:36:38.145148Z",
     "iopub.status.busy": "2025-03-10T05:36:38.144706Z",
     "iopub.status.idle": "2025-03-10T05:36:38.156464Z",
     "shell.execute_reply": "2025-03-10T05:36:38.15545Z",
     "shell.execute_reply.started": "2025-03-10T05:36:38.145093Z"
    },
    "trusted": true
   },
   "outputs": [],
   "source": [
    "pd.__version__"
   ]
  },
  {
   "cell_type": "code",
   "execution_count": null,
   "metadata": {
    "execution": {
     "iopub.execute_input": "2025-03-10T05:36:38.160091Z",
     "iopub.status.busy": "2025-03-10T05:36:38.159669Z",
     "iopub.status.idle": "2025-03-10T05:36:38.182005Z",
     "shell.execute_reply": "2025-03-10T05:36:38.181014Z",
     "shell.execute_reply.started": "2025-03-10T05:36:38.160052Z"
    },
    "papermill": {
     "duration": 0.058842,
     "end_time": "2023-01-25T10:41:11.46812",
     "exception": false,
     "start_time": "2023-01-25T10:41:11.409278",
     "status": "completed"
    },
    "tags": [],
    "trusted": true
   },
   "outputs": [],
   "source": [
    "df = pd.read_csv('/kaggle/input/engineering-placements-prediction/collegePlace.csv')"
   ]
  },
  {
   "cell_type": "code",
   "execution_count": null,
   "metadata": {
    "execution": {
     "iopub.execute_input": "2025-03-10T05:36:38.183525Z",
     "iopub.status.busy": "2025-03-10T05:36:38.183241Z",
     "iopub.status.idle": "2025-03-10T05:36:38.190522Z",
     "shell.execute_reply": "2025-03-10T05:36:38.189239Z",
     "shell.execute_reply.started": "2025-03-10T05:36:38.183501Z"
    },
    "papermill": {
     "duration": 0.024392,
     "end_time": "2023-01-25T10:41:11.562743",
     "exception": false,
     "start_time": "2023-01-25T10:41:11.538351",
     "status": "completed"
    },
    "tags": [],
    "trusted": true
   },
   "outputs": [],
   "source": [
    "df.shape"
   ]
  },
  {
   "cell_type": "code",
   "execution_count": null,
   "metadata": {
    "execution": {
     "iopub.execute_input": "2025-03-10T05:36:38.192317Z",
     "iopub.status.busy": "2025-03-10T05:36:38.19185Z",
     "iopub.status.idle": "2025-03-10T05:36:38.213645Z",
     "shell.execute_reply": "2025-03-10T05:36:38.212451Z",
     "shell.execute_reply.started": "2025-03-10T05:36:38.192287Z"
    },
    "papermill": {
     "duration": 0.04345,
     "end_time": "2023-01-25T10:41:11.524734",
     "exception": false,
     "start_time": "2023-01-25T10:41:11.481284",
     "status": "completed"
    },
    "tags": [],
    "trusted": true
   },
   "outputs": [],
   "source": [
    "df.head()\n",
    "#df.tail()"
   ]
  },
  {
   "cell_type": "code",
   "execution_count": null,
   "metadata": {
    "execution": {
     "iopub.execute_input": "2025-03-10T05:36:38.215323Z",
     "iopub.status.busy": "2025-03-10T05:36:38.214967Z",
     "iopub.status.idle": "2025-03-10T05:36:38.233221Z",
     "shell.execute_reply": "2025-03-10T05:36:38.232058Z",
     "shell.execute_reply.started": "2025-03-10T05:36:38.215292Z"
    },
    "papermill": {
     "duration": 0.034449,
     "end_time": "2023-01-25T10:41:11.61101",
     "exception": false,
     "start_time": "2023-01-25T10:41:11.576561",
     "status": "completed"
    },
    "tags": [],
    "trusted": true
   },
   "outputs": [],
   "source": [
    "df.sample(4)"
   ]
  },
  {
   "cell_type": "code",
   "execution_count": null,
   "metadata": {
    "execution": {
     "iopub.execute_input": "2025-03-10T05:36:38.234968Z",
     "iopub.status.busy": "2025-03-10T05:36:38.234625Z",
     "iopub.status.idle": "2025-03-10T05:36:38.250905Z",
     "shell.execute_reply": "2025-03-10T05:36:38.249768Z",
     "shell.execute_reply.started": "2025-03-10T05:36:38.234938Z"
    },
    "trusted": true
   },
   "outputs": [],
   "source": [
    "df.dtypes"
   ]
  },
  {
   "cell_type": "code",
   "execution_count": null,
   "metadata": {
    "execution": {
     "iopub.execute_input": "2025-03-10T05:36:38.252673Z",
     "iopub.status.busy": "2025-03-10T05:36:38.252358Z",
     "iopub.status.idle": "2025-03-10T05:36:38.27572Z",
     "shell.execute_reply": "2025-03-10T05:36:38.27448Z",
     "shell.execute_reply.started": "2025-03-10T05:36:38.252645Z"
    },
    "papermill": {
     "duration": 0.039396,
     "end_time": "2023-01-25T10:41:11.745021",
     "exception": false,
     "start_time": "2023-01-25T10:41:11.705625",
     "status": "completed"
    },
    "tags": [],
    "trusted": true
   },
   "outputs": [],
   "source": [
    "df.info()"
   ]
  },
  {
   "cell_type": "code",
   "execution_count": null,
   "metadata": {
    "execution": {
     "iopub.execute_input": "2025-03-10T05:36:38.278858Z",
     "iopub.status.busy": "2025-03-10T05:36:38.278542Z",
     "iopub.status.idle": "2025-03-10T05:36:38.307633Z",
     "shell.execute_reply": "2025-03-10T05:36:38.306484Z",
     "shell.execute_reply.started": "2025-03-10T05:36:38.27883Z"
    },
    "papermill": {
     "duration": 0.064007,
     "end_time": "2023-01-25T10:41:11.690491",
     "exception": false,
     "start_time": "2023-01-25T10:41:11.626484",
     "status": "completed"
    },
    "tags": [],
    "trusted": true
   },
   "outputs": [],
   "source": [
    "df.describe()"
   ]
  },
  {
   "cell_type": "code",
   "execution_count": null,
   "metadata": {
    "execution": {
     "iopub.execute_input": "2025-03-10T05:36:38.309764Z",
     "iopub.status.busy": "2025-03-10T05:36:38.309366Z",
     "iopub.status.idle": "2025-03-10T05:36:38.319469Z",
     "shell.execute_reply": "2025-03-10T05:36:38.318214Z",
     "shell.execute_reply.started": "2025-03-10T05:36:38.309723Z"
    },
    "trusted": true
   },
   "outputs": [],
   "source": [
    "df.corr()['PlacedOrNot']"
   ]
  },
  {
   "cell_type": "code",
   "execution_count": null,
   "metadata": {
    "execution": {
     "iopub.execute_input": "2025-03-09T11:20:16.124923Z",
     "iopub.status.busy": "2025-03-09T11:20:16.124534Z",
     "iopub.status.idle": "2025-03-09T11:20:16.137734Z",
     "shell.execute_reply": "2025-03-09T11:20:16.136586Z",
     "shell.execute_reply.started": "2025-03-09T11:20:16.12489Z"
    },
    "papermill": {
     "duration": 0.030424,
     "end_time": "2023-01-25T10:41:11.816992",
     "exception": false,
     "start_time": "2023-01-25T10:41:11.786568",
     "status": "completed"
    },
    "tags": [],
    "trusted": true
   },
   "outputs": [],
   "source": [
    "# missing values\n",
    "df.isnull().sum()\n",
    "\n",
    "#drop null values if present\n",
    "#df.dropna(inplace=True)"
   ]
  },
  {
   "cell_type": "code",
   "execution_count": null,
   "metadata": {
    "execution": {
     "iopub.execute_input": "2025-03-09T11:20:16.139738Z",
     "iopub.status.busy": "2025-03-09T11:20:16.139281Z",
     "iopub.status.idle": "2025-03-09T11:20:16.158626Z",
     "shell.execute_reply": "2025-03-09T11:20:16.157278Z",
     "shell.execute_reply.started": "2025-03-09T11:20:16.139695Z"
    },
    "papermill": {
     "duration": 0.030824,
     "end_time": "2023-01-25T10:41:11.862647",
     "exception": false,
     "start_time": "2023-01-25T10:41:11.831823",
     "status": "completed"
    },
    "tags": [],
    "trusted": true
   },
   "outputs": [],
   "source": [
    "# duplicate rows\n",
    "print(df.duplicated().sum())\n",
    "\n",
    "#drop duplicates\n",
    "df.drop_duplicates(inplace=True)"
   ]
  },
  {
   "cell_type": "code",
   "execution_count": null,
   "metadata": {
    "execution": {
     "iopub.execute_input": "2025-03-09T11:20:16.16086Z",
     "iopub.status.busy": "2025-03-09T11:20:16.160424Z",
     "iopub.status.idle": "2025-03-09T11:20:16.170958Z",
     "shell.execute_reply": "2025-03-09T11:20:16.169645Z",
     "shell.execute_reply.started": "2025-03-09T11:20:16.160813Z"
    },
    "papermill": {
     "duration": 0.02912,
     "end_time": "2023-01-25T10:41:11.906764",
     "exception": false,
     "start_time": "2023-01-25T10:41:11.877644",
     "status": "completed"
    },
    "tags": [],
    "trusted": true
   },
   "outputs": [],
   "source": [
    "# Check if the duplicate rows are removed\n",
    "print(df.duplicated().sum())"
   ]
  },
  {
   "cell_type": "code",
   "execution_count": null,
   "metadata": {
    "execution": {
     "iopub.execute_input": "2025-03-10T05:36:47.061864Z",
     "iopub.status.busy": "2025-03-10T05:36:47.061488Z",
     "iopub.status.idle": "2025-03-10T05:36:48.311695Z",
     "shell.execute_reply": "2025-03-10T05:36:48.310541Z",
     "shell.execute_reply.started": "2025-03-10T05:36:47.061833Z"
    },
    "papermill": {
     "duration": 0.324371,
     "end_time": "2023-01-25T10:41:12.245802",
     "exception": false,
     "start_time": "2023-01-25T10:41:11.921431",
     "status": "completed"
    },
    "tags": [],
    "trusted": true
   },
   "outputs": [],
   "source": [
    "#Plot the graph to visualize the output wrt major features\n",
    "#plt.scatter(df['CGPA'],df['Internships'],c=df['PlacedOrNot']) \n",
    "fig = px.scatter(df, x=\"CGPA\", y=\"Internships\", color=\"PlacedOrNot\",\n",
    "                 hover_data=['CGPA'])\n",
    "fig.show()"
   ]
  },
  {
   "cell_type": "code",
   "execution_count": null,
   "metadata": {
    "execution": {
     "iopub.execute_input": "2025-03-09T11:26:52.018468Z",
     "iopub.status.busy": "2025-03-09T11:26:52.018028Z",
     "iopub.status.idle": "2025-03-09T11:26:52.11591Z",
     "shell.execute_reply": "2025-03-09T11:26:52.114731Z",
     "shell.execute_reply.started": "2025-03-09T11:26:52.018434Z"
    },
    "trusted": true
   },
   "outputs": [],
   "source": [
    "fig = px.histogram(df, x='PlacedOrNot', color='PlacedOrNot', barmode='group')\n",
    "fig.show()"
   ]
  },
  {
   "cell_type": "code",
   "execution_count": null,
   "metadata": {
    "execution": {
     "iopub.execute_input": "2025-03-09T11:27:15.963442Z",
     "iopub.status.busy": "2025-03-09T11:27:15.963016Z",
     "iopub.status.idle": "2025-03-09T11:27:16.053288Z",
     "shell.execute_reply": "2025-03-09T11:27:16.052155Z",
     "shell.execute_reply.started": "2025-03-09T11:27:15.963407Z"
    },
    "trusted": true
   },
   "outputs": [],
   "source": [
    "# Pie Chart\n",
    "fig = px.pie(df, values=df['PlacedOrNot'].value_counts().values, names=df['PlacedOrNot'].value_counts().index, title='Placed Vs Not Placed')\n",
    "fig.show()"
   ]
  },
  {
   "cell_type": "code",
   "execution_count": null,
   "metadata": {
    "execution": {
     "iopub.execute_input": "2025-03-09T11:27:37.044056Z",
     "iopub.status.busy": "2025-03-09T11:27:37.043695Z",
     "iopub.status.idle": "2025-03-09T11:27:37.055523Z",
     "shell.execute_reply": "2025-03-09T11:27:37.054226Z",
     "shell.execute_reply.started": "2025-03-09T11:27:37.044026Z"
    },
    "trusted": true
   },
   "outputs": [],
   "source": [
    "print(\"Max Age of Placed Person: \",df[(df['Age'] == df['Age'].max()) & (df['PlacedOrNot']==1)]['Age'].values[0])\n",
    "print(\"Min Age of Placed Person: \",df[(df['Age'] == df['Age'].min()) & (df['PlacedOrNot']==1)]['Age'].values[0])"
   ]
  },
  {
   "cell_type": "code",
   "execution_count": null,
   "metadata": {
    "execution": {
     "iopub.execute_input": "2025-03-09T11:27:49.774043Z",
     "iopub.status.busy": "2025-03-09T11:27:49.773675Z",
     "iopub.status.idle": "2025-03-09T11:27:49.788524Z",
     "shell.execute_reply": "2025-03-09T11:27:49.787337Z",
     "shell.execute_reply.started": "2025-03-09T11:27:49.774014Z"
    },
    "trusted": true
   },
   "outputs": [],
   "source": [
    "print(\"Max Internships Done by the Placed Student: \",df[(df['Internships'] == df['Internships'].max()) & (df['PlacedOrNot']==1)]['Internships'].values[0])\n",
    "print(\"No of students who did max Internships and are placed: \",df[(df['Internships'] == df['Internships'].max()) & (df['PlacedOrNot']==1)]['Internships'].value_counts().values[0])\n",
    "\n",
    "print(\"Min Internships Done by the Placed Person: \",df[(df['Internships'] == df['Internships'].min()) & (df['PlacedOrNot']==1)]['Internships'].values[0])\n",
    "print(\"No of students who did min Internships and are placed: \",df[(df['Internships'] == df['Internships'].min()) & (df['PlacedOrNot']==1)]['Internships'].value_counts().values[0])\n"
   ]
  },
  {
   "cell_type": "code",
   "execution_count": null,
   "metadata": {
    "execution": {
     "iopub.execute_input": "2025-03-09T11:28:08.648239Z",
     "iopub.status.busy": "2025-03-09T11:28:08.647828Z",
     "iopub.status.idle": "2025-03-09T11:28:08.665339Z",
     "shell.execute_reply": "2025-03-09T11:28:08.663723Z",
     "shell.execute_reply.started": "2025-03-09T11:28:08.648204Z"
    },
    "trusted": true
   },
   "outputs": [],
   "source": [
    "print(\"Max CGPA of Placed Student: \",df[(df['CGPA'] == df['CGPA'].max()) & (df['PlacedOrNot']==1)]['CGPA'].values[0])\n",
    "print(\"No of students has max CGPA and are placed: \",df[(df['CGPA'] == df['CGPA'].max()) & (df['PlacedOrNot']==1)]['CGPA'].value_counts().values[0])\n",
    "\n",
    "print(\"Min CGPA of Placed Person: \",df[(df['CGPA'] == df['CGPA'].min()) & (df['PlacedOrNot']==1)]['CGPA'].values[0])\n",
    "print(\"No of students has min CGPA and are placed: \",df[(df['CGPA'] == df['CGPA'].min()) & (df['PlacedOrNot']==1)]['CGPA'].value_counts().values[0])\n"
   ]
  },
  {
   "cell_type": "code",
   "execution_count": null,
   "metadata": {
    "execution": {
     "iopub.execute_input": "2025-03-09T11:28:15.856133Z",
     "iopub.status.busy": "2025-03-09T11:28:15.855724Z",
     "iopub.status.idle": "2025-03-09T11:28:15.966864Z",
     "shell.execute_reply": "2025-03-09T11:28:15.965645Z",
     "shell.execute_reply.started": "2025-03-09T11:28:15.856064Z"
    },
    "trusted": true
   },
   "outputs": [],
   "source": [
    "fig = px.box(df, y='CGPA')\n",
    "fig.show()"
   ]
  },
  {
   "cell_type": "code",
   "execution_count": null,
   "metadata": {
    "execution": {
     "iopub.execute_input": "2025-03-09T11:28:39.241868Z",
     "iopub.status.busy": "2025-03-09T11:28:39.241455Z",
     "iopub.status.idle": "2025-03-09T11:28:39.327524Z",
     "shell.execute_reply": "2025-03-09T11:28:39.326311Z",
     "shell.execute_reply.started": "2025-03-09T11:28:39.241834Z"
    },
    "trusted": true
   },
   "outputs": [],
   "source": [
    "fig = px.box(df, y='Age')\n",
    "fig.show()"
   ]
  },
  {
   "cell_type": "code",
   "execution_count": null,
   "metadata": {
    "execution": {
     "iopub.execute_input": "2025-03-09T11:28:48.496374Z",
     "iopub.status.busy": "2025-03-09T11:28:48.495923Z",
     "iopub.status.idle": "2025-03-09T11:28:48.601596Z",
     "shell.execute_reply": "2025-03-09T11:28:48.600457Z",
     "shell.execute_reply.started": "2025-03-09T11:28:48.496338Z"
    },
    "trusted": true
   },
   "outputs": [],
   "source": [
    "fig = px.box(df, y=['Internships','CGPA', 'Age'])\n",
    "fig.show()"
   ]
  },
  {
   "cell_type": "code",
   "execution_count": null,
   "metadata": {
    "execution": {
     "iopub.execute_input": "2025-03-09T11:29:02.121158Z",
     "iopub.status.busy": "2025-03-09T11:29:02.120748Z",
     "iopub.status.idle": "2025-03-09T11:29:02.128122Z",
     "shell.execute_reply": "2025-03-09T11:29:02.12691Z",
     "shell.execute_reply.started": "2025-03-09T11:29:02.121126Z"
    },
    "papermill": {
     "duration": 0.028101,
     "end_time": "2023-01-25T10:41:12.318704",
     "exception": false,
     "start_time": "2023-01-25T10:41:12.290603",
     "status": "completed"
    },
    "tags": [],
    "trusted": true
   },
   "outputs": [],
   "source": [
    "# convert Gender column to numeric\n",
    "df['Gender'] = df['Gender'].map({'Male': 1, 'Female': 0})"
   ]
  },
  {
   "cell_type": "code",
   "execution_count": null,
   "metadata": {
    "execution": {
     "iopub.execute_input": "2025-03-09T11:29:07.472927Z",
     "iopub.status.busy": "2025-03-09T11:29:07.471605Z",
     "iopub.status.idle": "2025-03-09T11:29:07.479855Z",
     "shell.execute_reply": "2025-03-09T11:29:07.478712Z",
     "shell.execute_reply.started": "2025-03-09T11:29:07.472883Z"
    },
    "papermill": {
     "duration": 0.027645,
     "end_time": "2023-01-25T10:41:12.361897",
     "exception": false,
     "start_time": "2023-01-25T10:41:12.334252",
     "status": "completed"
    },
    "tags": [],
    "trusted": true
   },
   "outputs": [],
   "source": [
    "df['Stream'].unique()"
   ]
  },
  {
   "cell_type": "code",
   "execution_count": null,
   "metadata": {
    "execution": {
     "iopub.execute_input": "2025-03-09T11:29:11.931619Z",
     "iopub.status.busy": "2025-03-09T11:29:11.931191Z",
     "iopub.status.idle": "2025-03-09T11:29:11.938445Z",
     "shell.execute_reply": "2025-03-09T11:29:11.937336Z",
     "shell.execute_reply.started": "2025-03-09T11:29:11.931582Z"
    },
    "papermill": {
     "duration": 0.028206,
     "end_time": "2023-01-25T10:41:12.406671",
     "exception": false,
     "start_time": "2023-01-25T10:41:12.378465",
     "status": "completed"
    },
    "tags": [],
    "trusted": true
   },
   "outputs": [],
   "source": [
    "# convert Stream column to numeric\n",
    "df['Stream'] = df['Stream'].map({'Electronics And Communication': 1, \n",
    "                                 'Computer Science': 2,\n",
    "                                'Information Technology': 3,\n",
    "                                'Mechanical':4,\n",
    "                                'Electrical':5,\n",
    "                                'Civil':6})"
   ]
  },
  {
   "cell_type": "code",
   "execution_count": null,
   "metadata": {
    "execution": {
     "iopub.execute_input": "2025-03-09T11:29:15.271069Z",
     "iopub.status.busy": "2025-03-09T11:29:15.270675Z",
     "iopub.status.idle": "2025-03-09T11:29:15.284313Z",
     "shell.execute_reply": "2025-03-09T11:29:15.283153Z",
     "shell.execute_reply.started": "2025-03-09T11:29:15.271032Z"
    },
    "papermill": {
     "duration": 0.038634,
     "end_time": "2023-01-25T10:41:12.459762",
     "exception": false,
     "start_time": "2023-01-25T10:41:12.421128",
     "status": "completed"
    },
    "tags": [],
    "trusted": true
   },
   "outputs": [],
   "source": [
    "df.sample(5)"
   ]
  },
  {
   "cell_type": "code",
   "execution_count": null,
   "metadata": {
    "execution": {
     "iopub.execute_input": "2023-02-02T07:55:46.185715Z",
     "iopub.status.busy": "2023-02-02T07:55:46.185021Z",
     "iopub.status.idle": "2023-02-02T07:55:46.192715Z",
     "shell.execute_reply": "2023-02-02T07:55:46.19168Z",
     "shell.execute_reply.started": "2023-02-02T07:55:46.185679Z"
    },
    "papermill": {
     "duration": 0.024705,
     "end_time": "2023-01-25T10:41:12.499754",
     "exception": false,
     "start_time": "2023-01-25T10:41:12.475049",
     "status": "completed"
    },
    "tags": [],
    "trusted": true
   },
   "outputs": [],
   "source": [
    "# # you can reduce the features using PCA\n",
    "# pca = PCA(n_components=2)\n",
    "# X_pca = pca.fit_transform(X)\n",
    "# X_pca_transform = pd.DataFrame(data=X_pca)\n",
    "# #Plot the graph \n",
    "# plt.scatter(X_pca_transform[0],X_pca_transform[1],c=y)"
   ]
  },
  {
   "cell_type": "code",
   "execution_count": null,
   "metadata": {
    "execution": {
     "iopub.execute_input": "2025-03-09T11:29:59.891112Z",
     "iopub.status.busy": "2025-03-09T11:29:59.890721Z",
     "iopub.status.idle": "2025-03-09T11:29:59.905607Z",
     "shell.execute_reply": "2025-03-09T11:29:59.904428Z",
     "shell.execute_reply.started": "2025-03-09T11:29:59.891077Z"
    },
    "papermill": {
     "duration": 0.040941,
     "end_time": "2023-01-25T10:41:12.58826",
     "exception": false,
     "start_time": "2023-01-25T10:41:12.547319",
     "status": "completed"
    },
    "tags": [],
    "trusted": true
   },
   "outputs": [],
   "source": [
    "X = df.iloc[:,0:7]\n",
    "y = df.iloc[:,-1]\n",
    "X"
   ]
  },
  {
   "cell_type": "code",
   "execution_count": null,
   "metadata": {
    "execution": {
     "iopub.execute_input": "2025-03-09T11:30:03.593122Z",
     "iopub.status.busy": "2025-03-09T11:30:03.59276Z",
     "iopub.status.idle": "2025-03-09T11:30:03.59977Z",
     "shell.execute_reply": "2025-03-09T11:30:03.598509Z",
     "shell.execute_reply.started": "2025-03-09T11:30:03.59309Z"
    },
    "papermill": {
     "duration": 0.026278,
     "end_time": "2023-01-25T10:41:12.630699",
     "exception": false,
     "start_time": "2023-01-25T10:41:12.604421",
     "status": "completed"
    },
    "tags": [],
    "trusted": true
   },
   "outputs": [],
   "source": [
    "print(X.shape)\n",
    "print(y.shape)"
   ]
  },
  {
   "cell_type": "code",
   "execution_count": null,
   "metadata": {
    "execution": {
     "iopub.execute_input": "2025-03-09T11:30:07.581345Z",
     "iopub.status.busy": "2025-03-09T11:30:07.580889Z",
     "iopub.status.idle": "2025-03-09T11:30:07.590215Z",
     "shell.execute_reply": "2025-03-09T11:30:07.588784Z",
     "shell.execute_reply.started": "2025-03-09T11:30:07.581301Z"
    },
    "papermill": {
     "duration": 0.026357,
     "end_time": "2023-01-25T10:41:12.703643",
     "exception": false,
     "start_time": "2023-01-25T10:41:12.677286",
     "status": "completed"
    },
    "tags": [],
    "trusted": true
   },
   "outputs": [],
   "source": [
    "X_train,X_test,y_train,y_test = train_test_split(X,y,test_size=0.33)"
   ]
  },
  {
   "cell_type": "code",
   "execution_count": null,
   "metadata": {
    "execution": {
     "iopub.execute_input": "2025-03-09T11:30:10.661226Z",
     "iopub.status.busy": "2025-03-09T11:30:10.660824Z",
     "iopub.status.idle": "2025-03-09T11:30:10.668155Z",
     "shell.execute_reply": "2025-03-09T11:30:10.666329Z",
     "shell.execute_reply.started": "2025-03-09T11:30:10.661192Z"
    },
    "papermill": {
     "duration": 0.029689,
     "end_time": "2023-01-25T10:41:12.750014",
     "exception": false,
     "start_time": "2023-01-25T10:41:12.720325",
     "status": "completed"
    },
    "tags": [],
    "trusted": true
   },
   "outputs": [],
   "source": [
    "print(X_train.shape)\n",
    "print(X_test.shape)\n",
    "print(y_train.shape)\n",
    "print(y_test.shape)"
   ]
  },
  {
   "cell_type": "code",
   "execution_count": null,
   "metadata": {
    "execution": {
     "iopub.execute_input": "2025-03-09T11:30:14.981327Z",
     "iopub.status.busy": "2025-03-09T11:30:14.980905Z",
     "iopub.status.idle": "2025-03-09T11:30:14.992927Z",
     "shell.execute_reply": "2025-03-09T11:30:14.991779Z",
     "shell.execute_reply.started": "2025-03-09T11:30:14.981251Z"
    },
    "papermill": {
     "duration": 0.031417,
     "end_time": "2023-01-25T10:41:12.828902",
     "exception": false,
     "start_time": "2023-01-25T10:41:12.797485",
     "status": "completed"
    },
    "tags": [],
    "trusted": true
   },
   "outputs": [],
   "source": [
    "scaler = StandardScaler()\n",
    "X_train_scale = scaler.fit_transform(X_train)\n",
    "X_test_scale = scaler.transform(X_test)"
   ]
  },
  {
   "cell_type": "markdown",
   "metadata": {
    "papermill": {
     "duration": 0.015362,
     "end_time": "2023-01-25T10:41:12.890175",
     "exception": false,
     "start_time": "2023-01-25T10:41:12.874813",
     "status": "completed"
    },
    "tags": []
   },
   "source": [
    "## Logistic Regression"
   ]
  },
  {
   "cell_type": "code",
   "execution_count": null,
   "metadata": {
    "execution": {
     "iopub.execute_input": "2025-03-09T11:31:35.851461Z",
     "iopub.status.busy": "2025-03-09T11:31:35.851038Z",
     "iopub.status.idle": "2025-03-09T11:31:36.182443Z",
     "shell.execute_reply": "2025-03-09T11:31:36.181296Z",
     "shell.execute_reply.started": "2025-03-09T11:31:35.851428Z"
    },
    "papermill": {
     "duration": 0.401549,
     "end_time": "2023-01-25T10:41:13.30862",
     "exception": false,
     "start_time": "2023-01-25T10:41:12.907071",
     "status": "completed"
    },
    "tags": [],
    "trusted": true
   },
   "outputs": [],
   "source": [
    "#https://scikit-learn.org/stable/modules/generated/sklearn.linear_model.LogisticRegression.html\n",
    "#using Logistic Regression\n",
    "from sklearn.linear_model import LogisticRegression\n",
    "clf = LogisticRegression()\n",
    "\n",
    "# Without Scaling \n",
    "clf.fit(X_train,y_train) \n",
    "y_pred = clf.predict(X_test)\n",
    "print(\"Without Scaling and CV: \",accuracy_score(y_test,y_pred))\n",
    "scores = cross_val_score(clf, X_train, y_train, cv=10)\n",
    "print(\"Without Scaling and With CV: \",scores.mean())\n",
    "\n",
    "# With Scaling \n",
    "clf.fit(X_train_scale,y_train) \n",
    "y_pred = clf.predict(X_test_scale)\n",
    "print(\"With Scaling and Without CV: \",accuracy_score(y_test,y_pred))\n",
    "scores = cross_val_score(clf, X_train_scale, y_train, cv=10)\n",
    "print(\"With Scaling and With CV: \",scores.mean())\n",
    "\n",
    "#scaling has not much effect"
   ]
  },
  {
   "cell_type": "markdown",
   "metadata": {
    "papermill": {
     "duration": 0.015461,
     "end_time": "2023-01-25T10:41:13.33976",
     "exception": false,
     "start_time": "2023-01-25T10:41:13.324299",
     "status": "completed"
    },
    "tags": []
   },
   "source": [
    "## SGD Classifier"
   ]
  },
  {
   "cell_type": "code",
   "execution_count": null,
   "metadata": {
    "execution": {
     "iopub.execute_input": "2025-03-09T11:32:40.221867Z",
     "iopub.status.busy": "2025-03-09T11:32:40.22146Z",
     "iopub.status.idle": "2025-03-09T11:32:40.368293Z",
     "shell.execute_reply": "2025-03-09T11:32:40.366847Z",
     "shell.execute_reply.started": "2025-03-09T11:32:40.221832Z"
    },
    "papermill": {
     "duration": 0.201122,
     "end_time": "2023-01-25T10:41:13.557204",
     "exception": false,
     "start_time": "2023-01-25T10:41:13.356082",
     "status": "completed"
    },
    "tags": [],
    "trusted": true
   },
   "outputs": [],
   "source": [
    "# https://scikit-learn.org/stable/modules/generated/sklearn.linear_model.SGDClassifier.html#sklearn.linear_model.SGDClassifier\n",
    "#Using SGD Classifier\n",
    "from sklearn.linear_model import SGDClassifier\n",
    "clf = SGDClassifier(max_iter=1000, tol=1e-3)\n",
    "\n",
    "# Without Scaling\n",
    "clf.fit(X_train,y_train)\n",
    "y_pred = clf.predict(X_test)\n",
    "print(\"Without Scaling and CV: \",accuracy_score(y_test,y_pred))\n",
    "scores = cross_val_score(clf, X_train, y_train, cv=10)\n",
    "print(\"Without Scaling and With CV: \",scores.mean())\n",
    "\n",
    "# With Scaling \n",
    "clf.fit(X_train_scale,y_train) \n",
    "y_pred = clf.predict(X_test_scale)\n",
    "print(\"With Scaling and Without CV: \",accuracy_score(y_test,y_pred))\n",
    "scores = cross_val_score(clf, X_train_scale, y_train, cv=10)\n",
    "print(\"With Scaling and With CV: \",scores.mean())\n"
   ]
  },
  {
   "cell_type": "code",
   "execution_count": null,
   "metadata": {
    "execution": {
     "iopub.execute_input": "2025-03-09T11:32:46.68218Z",
     "iopub.status.busy": "2025-03-09T11:32:46.681797Z",
     "iopub.status.idle": "2025-03-09T11:32:46.77213Z",
     "shell.execute_reply": "2025-03-09T11:32:46.770943Z",
     "shell.execute_reply.started": "2025-03-09T11:32:46.682146Z"
    },
    "papermill": {
     "duration": 0.13378,
     "end_time": "2023-01-25T10:41:13.706888",
     "exception": false,
     "start_time": "2023-01-25T10:41:13.573108",
     "status": "completed"
    },
    "tags": [],
    "trusted": true
   },
   "outputs": [],
   "source": [
    "from sklearn.linear_model import Perceptron\n",
    "# this is same as SGDClassifier(loss=\"perceptron\", eta0=1, learning_rate=\"constant\", penalty=None)\n",
    "\n",
    "clf = Perceptron(tol=1e-3, random_state=0)\n",
    "# Without Scaling\n",
    "clf.fit(X_train,y_train)\n",
    "y_pred = clf.predict(X_test)\n",
    "print(\"Without Scaling and CV: \",accuracy_score(y_test,y_pred))\n",
    "scores = cross_val_score(clf, X_train, y_train, cv=10)\n",
    "print(\"Without Scaling and With CV: \",scores.mean())\n",
    "\n",
    "# With Scaling \n",
    "clf.fit(X_train_scale,y_train) \n",
    "y_pred = clf.predict(X_test_scale)\n",
    "print(\"With Scaling and Without CV: \",accuracy_score(y_test,y_pred))\n",
    "scores = cross_val_score(clf, X_train_scale, y_train, cv=10)\n",
    "print(\"With Scaling and With CV: \",scores.mean())\n"
   ]
  },
  {
   "cell_type": "code",
   "execution_count": null,
   "metadata": {
    "execution": {
     "iopub.execute_input": "2025-03-09T11:32:50.342182Z",
     "iopub.status.busy": "2025-03-09T11:32:50.34179Z",
     "iopub.status.idle": "2025-03-09T11:32:56.318178Z",
     "shell.execute_reply": "2025-03-09T11:32:56.316924Z",
     "shell.execute_reply.started": "2025-03-09T11:32:50.34215Z"
    },
    "papermill": {
     "duration": 6.550632,
     "end_time": "2023-01-25T10:41:20.274972",
     "exception": false,
     "start_time": "2023-01-25T10:41:13.72434",
     "status": "completed"
    },
    "tags": [],
    "trusted": true
   },
   "outputs": [],
   "source": [
    "# https://scikit-learn.org/stable/modules/generated/sklearn.linear_model.LogisticRegressionCV.html#sklearn.linear_model.LogisticRegressionCV\n",
    "# Using LogisticRegressionCV\n",
    "from sklearn.linear_model import LogisticRegressionCV\n",
    "clf = LogisticRegressionCV(cv=5, random_state=0)\n",
    "\n",
    "# Without Scaling\n",
    "clf.fit(X_train,y_train)\n",
    "y_pred = clf.predict(X_test)\n",
    "print(\"Without Scaling and CV: \",accuracy_score(y_test,y_pred))\n",
    "scores = cross_val_score(clf, X_train, y_train, cv=10)\n",
    "print(\"Without Scaling and With CV: \",scores.mean())\n",
    "\n",
    "# With Scaling \n",
    "clf.fit(X_train_scale,y_train) \n",
    "y_pred = clf.predict(X_test_scale)\n",
    "print(\"With Scaling and Without CV: \",accuracy_score(y_test,y_pred))\n",
    "scores = cross_val_score(clf, X_train_scale, y_train, cv=10)\n",
    "print(\"With Scaling and With CV: \",scores.mean())"
   ]
  },
  {
   "cell_type": "markdown",
   "metadata": {
    "papermill": {
     "duration": 0.01564,
     "end_time": "2023-01-25T10:41:20.307341",
     "exception": false,
     "start_time": "2023-01-25T10:41:20.291701",
     "status": "completed"
    },
    "tags": []
   },
   "source": [
    "## Decision Tree Classifier"
   ]
  },
  {
   "cell_type": "code",
   "execution_count": null,
   "metadata": {
    "execution": {
     "iopub.execute_input": "2025-03-09T11:33:14.991783Z",
     "iopub.status.busy": "2025-03-09T11:33:14.991389Z",
     "iopub.status.idle": "2025-03-09T11:33:15.144178Z",
     "shell.execute_reply": "2025-03-09T11:33:15.142816Z",
     "shell.execute_reply.started": "2025-03-09T11:33:14.99175Z"
    },
    "papermill": {
     "duration": 0.191865,
     "end_time": "2023-01-25T10:41:20.514897",
     "exception": false,
     "start_time": "2023-01-25T10:41:20.323032",
     "status": "completed"
    },
    "tags": [],
    "trusted": true
   },
   "outputs": [],
   "source": [
    "# https://scikit-learn.org/stable/modules/generated/sklearn.tree.DecisionTreeClassifier.html\n",
    "# Using DecisionTreeClassifier\n",
    "from sklearn.tree import DecisionTreeClassifier\n",
    "clf = DecisionTreeClassifier(random_state=0)\n",
    "\n",
    "#without scaling\n",
    "clf.fit(X_train,y_train)\n",
    "y_pred = clf.predict(X_test)\n",
    "print(\"Without Scaling and CV: \",accuracy_score(y_test,y_pred))\n",
    "scores = cross_val_score(clf, X_train, y_train, cv=10)\n",
    "print(\"Without Scaling and With CV: \",scores.mean())\n",
    "\n",
    "# With Scaling \n",
    "clf.fit(X_train_scale,y_train) \n",
    "y_pred = clf.predict(X_test_scale)\n",
    "print(\"With Scaling and Without CV: \",accuracy_score(y_test,y_pred))\n",
    "scores = cross_val_score(clf, X_train_scale, y_train, cv=10)\n",
    "print(\"With Scaling and With CV: \",scores.mean())"
   ]
  },
  {
   "cell_type": "markdown",
   "metadata": {
    "papermill": {
     "duration": 0.016106,
     "end_time": "2023-01-25T10:41:20.547935",
     "exception": false,
     "start_time": "2023-01-25T10:41:20.531829",
     "status": "completed"
    },
    "tags": []
   },
   "source": [
    "## Random Forest Classifier"
   ]
  },
  {
   "cell_type": "code",
   "execution_count": null,
   "metadata": {
    "execution": {
     "iopub.execute_input": "2025-03-09T11:33:21.19918Z",
     "iopub.status.busy": "2025-03-09T11:33:21.198798Z",
     "iopub.status.idle": "2025-03-09T11:33:25.057991Z",
     "shell.execute_reply": "2025-03-09T11:33:25.056861Z",
     "shell.execute_reply.started": "2025-03-09T11:33:21.199149Z"
    },
    "papermill": {
     "duration": 4.514278,
     "end_time": "2023-01-25T10:41:25.078993",
     "exception": false,
     "start_time": "2023-01-25T10:41:20.564715",
     "status": "completed"
    },
    "tags": [],
    "trusted": true
   },
   "outputs": [],
   "source": [
    "# https://scikit-learn.org/stable/modules/generated/sklearn.ensemble.RandomForestClassifier.html\n",
    "from sklearn.ensemble import RandomForestClassifier\n",
    "\n",
    "clf = RandomForestClassifier(max_depth=10, random_state=0)\n",
    "\n",
    "clf.fit(X_train,y_train)\n",
    "y_pred = clf.predict(X_test)\n",
    "print(\"Without Scaling and CV: \",accuracy_score(y_test,y_pred))\n",
    "scores = cross_val_score(clf, X_train, y_train, cv=10)\n",
    "print(\"Without Scaling and With CV: \",scores.mean())\n",
    "\n",
    "# With Scaling \n",
    "clf.fit(X_train_scale,y_train) \n",
    "y_pred = clf.predict(X_test_scale)\n",
    "print(\"With Scaling and Without CV: \",accuracy_score(y_test,y_pred))\n",
    "scores = cross_val_score(clf, X_train_scale, y_train, cv=10)\n",
    "print(\"With Scaling and With CV: \",scores.mean())"
   ]
  },
  {
   "cell_type": "markdown",
   "metadata": {
    "papermill": {
     "duration": 0.016538,
     "end_time": "2023-01-25T10:41:25.113388",
     "exception": false,
     "start_time": "2023-01-25T10:41:25.09685",
     "status": "completed"
    },
    "tags": []
   },
   "source": [
    "## Support Vector Machines"
   ]
  },
  {
   "cell_type": "code",
   "execution_count": null,
   "metadata": {
    "execution": {
     "iopub.execute_input": "2023-02-02T07:55:56.523998Z",
     "iopub.status.busy": "2023-02-02T07:55:56.523284Z",
     "iopub.status.idle": "2023-02-02T07:55:56.529271Z",
     "shell.execute_reply": "2023-02-02T07:55:56.528054Z",
     "shell.execute_reply.started": "2023-02-02T07:55:56.523951Z"
    },
    "papermill": {
     "duration": 0.026709,
     "end_time": "2023-01-25T10:41:25.157554",
     "exception": false,
     "start_time": "2023-01-25T10:41:25.130845",
     "status": "completed"
    },
    "tags": [],
    "trusted": true
   },
   "outputs": [],
   "source": [
    "#https://scikit-learn.org/stable/modules/svm.html"
   ]
  },
  {
   "cell_type": "code",
   "execution_count": null,
   "metadata": {
    "execution": {
     "iopub.execute_input": "2025-03-09T11:36:37.621035Z",
     "iopub.status.busy": "2025-03-09T11:36:37.620654Z",
     "iopub.status.idle": "2025-03-09T11:36:47.522101Z",
     "shell.execute_reply": "2025-03-09T11:36:47.520848Z",
     "shell.execute_reply.started": "2025-03-09T11:36:37.621004Z"
    },
    "papermill": {
     "duration": 0.723869,
     "end_time": "2023-01-25T10:41:25.897644",
     "exception": false,
     "start_time": "2023-01-25T10:41:25.173775",
     "status": "completed"
    },
    "tags": [],
    "trusted": true
   },
   "outputs": [],
   "source": [
    "# https://scikit-learn.org/stable/modules/generated/sklearn.svm.SVC.html#sklearn.svm.SVC\n",
    "from sklearn.svm import SVC\n",
    "#clf = SVC(gamma='auto')\n",
    "\n",
    "svc = SVC()\n",
    "parameters = {'kernel':('linear', 'rbf'), 'C':[1, 10]}\n",
    "clf = GridSearchCV(svc, parameters)\n",
    "\n",
    "clf.fit(X_train,y_train)\n",
    "y_pred = clf.predict(X_test)\n",
    "print(\"Best Parameters:\", clf.best_params_)\n",
    "print(\"Best Score:\", clf.best_score_)\n",
    "print(\"Without Scaling and CV: \",accuracy_score(y_test,y_pred))\n",
    "scores = cross_val_score(clf, X_train, y_train, cv=10)\n",
    "print(\"Without Scaling and With CV: \",scores.mean())\n",
    "\n",
    "# With Scaling \n",
    "clf.fit(X_train_scale,y_train) \n",
    "y_pred = clf.predict(X_test_scale)\n",
    "print(\"Best Parameters:\", clf.best_params_)\n",
    "print(\"Best Score:\", clf.best_score_)\n",
    "print(\"With Scaling and Without CV: \",accuracy_score(y_test,y_pred))\n",
    "scores = cross_val_score(clf, X_train_scale, y_train, cv=10)\n",
    "print(\"With Scaling and With CV: \",scores.mean())"
   ]
  },
  {
   "cell_type": "code",
   "execution_count": null,
   "metadata": {
    "execution": {
     "iopub.execute_input": "2025-03-09T11:37:22.549167Z",
     "iopub.status.busy": "2025-03-09T11:37:22.548739Z",
     "iopub.status.idle": "2025-03-09T11:37:23.132766Z",
     "shell.execute_reply": "2025-03-09T11:37:23.131358Z",
     "shell.execute_reply.started": "2025-03-09T11:37:22.549129Z"
    },
    "papermill": {
     "duration": 0.864275,
     "end_time": "2023-01-25T10:41:26.78029",
     "exception": false,
     "start_time": "2023-01-25T10:41:25.916015",
     "status": "completed"
    },
    "tags": [],
    "trusted": true
   },
   "outputs": [],
   "source": [
    "# https://scikit-learn.org/stable/modules/generated/sklearn.svm.NuSVC.html#sklearn.svm.NuSVC\n",
    "from sklearn.svm import NuSVC\n",
    "clf = NuSVC()\n",
    "\n",
    "clf.fit(X_train,y_train)\n",
    "y_pred = clf.predict(X_test)\n",
    "print(\"Without Scaling and CV: \",accuracy_score(y_test,y_pred))\n",
    "scores = cross_val_score(clf, X_train, y_train, cv=10)\n",
    "print(\"Without Scaling and With CV: \",scores.mean())\n",
    "\n",
    "# With Scaling \n",
    "clf.fit(X_train_scale,y_train) \n",
    "y_pred = clf.predict(X_test_scale)\n",
    "print(\"With Scaling and Without CV: \",accuracy_score(y_test,y_pred))\n",
    "scores = cross_val_score(clf, X_train_scale, y_train, cv=10)\n",
    "print(\"With Scaling and With CV: \",scores.mean())"
   ]
  },
  {
   "cell_type": "code",
   "execution_count": null,
   "metadata": {
    "execution": {
     "iopub.execute_input": "2025-03-09T11:37:27.154079Z",
     "iopub.status.busy": "2025-03-09T11:37:27.153723Z",
     "iopub.status.idle": "2025-03-09T11:37:27.724448Z",
     "shell.execute_reply": "2025-03-09T11:37:27.723341Z",
     "shell.execute_reply.started": "2025-03-09T11:37:27.154051Z"
    },
    "papermill": {
     "duration": 0.825815,
     "end_time": "2023-01-25T10:41:27.624492",
     "exception": false,
     "start_time": "2023-01-25T10:41:26.798677",
     "status": "completed"
    },
    "tags": [],
    "trusted": true
   },
   "outputs": [],
   "source": [
    "# https://scikit-learn.org/stable/modules/generated/sklearn.svm.LinearSVC.html#sklearn.svm.LinearSVC\n",
    "from sklearn.svm import LinearSVC\n",
    "clf = LinearSVC(random_state=0, tol=1e-5)\n",
    "\n",
    "clf.fit(X_train,y_train)\n",
    "y_pred = clf.predict(X_test)\n",
    "print(\"Without Scaling and CV: \",accuracy_score(y_test,y_pred))\n",
    "scores = cross_val_score(clf, X_train, y_train, cv=10)\n",
    "print(\"Without Scaling and With CV: \",scores.mean())\n",
    "\n",
    "# With Scaling \n",
    "clf.fit(X_train_scale,y_train) \n",
    "y_pred = clf.predict(X_test_scale)\n",
    "print(\"With Scaling and Without CV: \",accuracy_score(y_test,y_pred))\n",
    "scores = cross_val_score(clf, X_train_scale, y_train, cv=10)\n",
    "print(\"With Scaling and With CV: \",scores.mean())"
   ]
  },
  {
   "cell_type": "markdown",
   "metadata": {
    "papermill": {
     "duration": 0.016852,
     "end_time": "2023-01-25T10:41:27.659384",
     "exception": false,
     "start_time": "2023-01-25T10:41:27.642532",
     "status": "completed"
    },
    "tags": []
   },
   "source": [
    "## Naive Bayes"
   ]
  },
  {
   "cell_type": "code",
   "execution_count": null,
   "metadata": {
    "execution": {
     "iopub.execute_input": "2023-02-02T07:56:07.543552Z",
     "iopub.status.busy": "2023-02-02T07:56:07.543143Z",
     "iopub.status.idle": "2023-02-02T07:56:07.548514Z",
     "shell.execute_reply": "2023-02-02T07:56:07.547155Z",
     "shell.execute_reply.started": "2023-02-02T07:56:07.543517Z"
    },
    "papermill": {
     "duration": 0.028772,
     "end_time": "2023-01-25T10:41:27.704906",
     "exception": false,
     "start_time": "2023-01-25T10:41:27.676134",
     "status": "completed"
    },
    "tags": [],
    "trusted": true
   },
   "outputs": [],
   "source": [
    "#https://scikit-learn.org/stable/modules/naive_bayes.html"
   ]
  },
  {
   "cell_type": "code",
   "execution_count": null,
   "metadata": {
    "execution": {
     "iopub.execute_input": "2025-03-09T11:38:03.461932Z",
     "iopub.status.busy": "2025-03-09T11:38:03.460974Z",
     "iopub.status.idle": "2025-03-09T11:38:03.542193Z",
     "shell.execute_reply": "2025-03-09T11:38:03.540999Z",
     "shell.execute_reply.started": "2025-03-09T11:38:03.461893Z"
    },
    "papermill": {
     "duration": 0.129796,
     "end_time": "2023-01-25T10:41:27.852165",
     "exception": false,
     "start_time": "2023-01-25T10:41:27.722369",
     "status": "completed"
    },
    "tags": [],
    "trusted": true
   },
   "outputs": [],
   "source": [
    "from sklearn.naive_bayes import GaussianNB\n",
    "clf = GaussianNB()\n",
    "\n",
    "#y_pred = gnb.fit(X_train, y_train).predict(X_test)\n",
    "#print(\"Number of mislabeled points out of a total %d points : %d\" % (X_test.shape[0], (y_test != y_pred).sum()))\n",
    "\n",
    "clf.fit(X_train,y_train)\n",
    "y_pred = clf.predict(X_test)\n",
    "print(\"Without Scaling and CV: \",accuracy_score(y_test,y_pred))\n",
    "scores = cross_val_score(clf, X_train, y_train, cv=10)\n",
    "print(\"Without Scaling and With CV: \",scores.mean())\n",
    "\n",
    "# With Scaling \n",
    "clf.fit(X_train_scale,y_train) \n",
    "y_pred = clf.predict(X_test_scale)\n",
    "print(\"With Scaling and Without CV: \",accuracy_score(y_test,y_pred))\n",
    "scores = cross_val_score(clf, X_train_scale, y_train, cv=10)\n",
    "print(\"With Scaling and With CV: \",scores.mean())"
   ]
  },
  {
   "cell_type": "code",
   "execution_count": null,
   "metadata": {
    "execution": {
     "iopub.execute_input": "2025-03-09T11:38:07.719369Z",
     "iopub.status.busy": "2025-03-09T11:38:07.71892Z",
     "iopub.status.idle": "2025-03-09T11:38:07.777369Z",
     "shell.execute_reply": "2025-03-09T11:38:07.776052Z",
     "shell.execute_reply.started": "2025-03-09T11:38:07.719331Z"
    },
    "papermill": {
     "duration": 0.089172,
     "end_time": "2023-01-25T10:41:27.959875",
     "exception": false,
     "start_time": "2023-01-25T10:41:27.870703",
     "status": "completed"
    },
    "tags": [],
    "trusted": true
   },
   "outputs": [],
   "source": [
    "from sklearn.naive_bayes import MultinomialNB\n",
    "clf = MultinomialNB()\n",
    "\n",
    "clf.fit(X_train,y_train)\n",
    "y_pred = clf.predict(X_test)\n",
    "print(\"Without Scaling and CV: \",accuracy_score(y_test,y_pred))\n",
    "scores = cross_val_score(clf, X_train, y_train, cv=10)\n",
    "print(\"Without Scaling and With CV: \",scores.mean())\n"
   ]
  },
  {
   "cell_type": "code",
   "execution_count": null,
   "metadata": {
    "execution": {
     "iopub.execute_input": "2025-03-09T11:38:22.17357Z",
     "iopub.status.busy": "2025-03-09T11:38:22.173174Z",
     "iopub.status.idle": "2025-03-09T11:38:22.262605Z",
     "shell.execute_reply": "2025-03-09T11:38:22.261202Z",
     "shell.execute_reply.started": "2025-03-09T11:38:22.17354Z"
    },
    "papermill": {
     "duration": 0.119957,
     "end_time": "2023-01-25T10:41:28.09804",
     "exception": false,
     "start_time": "2023-01-25T10:41:27.978083",
     "status": "completed"
    },
    "tags": [],
    "trusted": true
   },
   "outputs": [],
   "source": [
    "from sklearn.naive_bayes import BernoulliNB\n",
    "clf = BernoulliNB()\n",
    "\n",
    "clf.fit(X_train,y_train)\n",
    "y_pred = clf.predict(X_test)\n",
    "print(\"Without Scaling and CV: \",accuracy_score(y_test,y_pred))\n",
    "scores = cross_val_score(clf, X_train, y_train, cv=10)\n",
    "print(\"Without Scaling and With CV: \",scores.mean())\n",
    "\n",
    "# With Scaling \n",
    "clf.fit(X_train_scale,y_train) \n",
    "y_pred = clf.predict(X_test_scale)\n",
    "print(\"With Scaling and Without CV: \",accuracy_score(y_test,y_pred))\n",
    "scores = cross_val_score(clf, X_train_scale, y_train, cv=10)\n",
    "print(\"With Scaling and With CV: \",scores.mean())"
   ]
  },
  {
   "cell_type": "code",
   "execution_count": null,
   "metadata": {
    "execution": {
     "iopub.execute_input": "2025-03-09T11:38:26.063852Z",
     "iopub.status.busy": "2025-03-09T11:38:26.063478Z",
     "iopub.status.idle": "2025-03-09T11:38:26.0796Z",
     "shell.execute_reply": "2025-03-09T11:38:26.078336Z",
     "shell.execute_reply.started": "2025-03-09T11:38:26.063822Z"
    },
    "papermill": {
     "duration": 0.037388,
     "end_time": "2023-01-25T10:41:28.153661",
     "exception": false,
     "start_time": "2023-01-25T10:41:28.116273",
     "status": "completed"
    },
    "tags": [],
    "trusted": true
   },
   "outputs": [],
   "source": [
    "from sklearn.naive_bayes import CategoricalNB\n",
    "clf = CategoricalNB()\n",
    "\n",
    "clf.fit(X_train,y_train)\n",
    "y_pred = clf.predict(X_test)\n",
    "print(\"Without Scaling and CV: \",accuracy_score(y_test,y_pred))\n",
    "#scores = cross_val_score(clf, X_train, y_train, cv=5)\n",
    "#print(\"Without Scaling and With CV: \",scores.mean())"
   ]
  },
  {
   "cell_type": "markdown",
   "metadata": {
    "papermill": {
     "duration": 0.01741,
     "end_time": "2023-01-25T10:41:28.188931",
     "exception": false,
     "start_time": "2023-01-25T10:41:28.171521",
     "status": "completed"
    },
    "tags": []
   },
   "source": [
    "## K-Nearest Neighbors"
   ]
  },
  {
   "cell_type": "code",
   "execution_count": null,
   "metadata": {
    "execution": {
     "iopub.execute_input": "2025-03-09T11:38:36.055511Z",
     "iopub.status.busy": "2025-03-09T11:38:36.055094Z",
     "iopub.status.idle": "2025-03-09T11:38:36.221835Z",
     "shell.execute_reply": "2025-03-09T11:38:36.220592Z",
     "shell.execute_reply.started": "2025-03-09T11:38:36.055477Z"
    },
    "papermill": {
     "duration": 0.215047,
     "end_time": "2023-01-25T10:41:28.421549",
     "exception": false,
     "start_time": "2023-01-25T10:41:28.206502",
     "status": "completed"
    },
    "tags": [],
    "trusted": true
   },
   "outputs": [],
   "source": [
    "from sklearn.neighbors import KNeighborsClassifier\n",
    "clf = KNeighborsClassifier(n_neighbors=3)\n",
    "\n",
    "clf.fit(X_train,y_train)\n",
    "y_pred = clf.predict(X_test)\n",
    "print(\"Without Scaling and CV: \",accuracy_score(y_test,y_pred))\n",
    "scores = cross_val_score(clf, X_train, y_train, cv=10)\n",
    "print(\"Without Scaling and With CV: \",scores.mean())\n",
    "\n",
    "\n",
    "# With Scaling \n",
    "clf.fit(X_train_scale,y_train) \n",
    "y_pred = clf.predict(X_test_scale)\n",
    "print(\"With Scaling and Without CV: \",accuracy_score(y_test,y_pred))\n",
    "scores = cross_val_score(clf, X_train_scale, y_train, cv=10)\n",
    "print(\"With Scaling and With CV: \",scores.mean())"
   ]
  },
  {
   "cell_type": "code",
   "execution_count": null,
   "metadata": {
    "execution": {
     "iopub.execute_input": "2025-03-09T11:38:43.691823Z",
     "iopub.status.busy": "2025-03-09T11:38:43.691422Z",
     "iopub.status.idle": "2025-03-09T11:38:45.592419Z",
     "shell.execute_reply": "2025-03-09T11:38:45.591123Z",
     "shell.execute_reply.started": "2025-03-09T11:38:43.691789Z"
    },
    "papermill": {
     "duration": 2.250683,
     "end_time": "2023-01-25T10:41:30.761397",
     "exception": false,
     "start_time": "2023-01-25T10:41:28.510714",
     "status": "completed"
    },
    "tags": [],
    "trusted": true
   },
   "outputs": [],
   "source": [
    "clf = RandomForestClassifier(max_depth=10, random_state=0)\n",
    "clf.fit(X_train,y_train)\n",
    "y_pred = clf.predict(X_test)\n",
    "print(\"Without CV: \",accuracy_score(y_test,y_pred))\n",
    "scores = cross_val_score(clf, X_train, y_train, cv=10)\n",
    "print(\"With CV: \",scores.mean())\n",
    "print(\"Precision Score: \", precision_score(y_test, y_pred))\n",
    "print(\"Recall Score: \", recall_score(y_test, y_pred))\n",
    "print(\"F1 Score: \", f1_score(y_test, y_pred))\n"
   ]
  },
  {
   "cell_type": "code",
   "execution_count": null,
   "metadata": {
    "execution": {
     "iopub.execute_input": "2025-03-09T11:40:25.366227Z",
     "iopub.status.busy": "2025-03-09T11:40:25.365794Z",
     "iopub.status.idle": "2025-03-09T11:43:39.543833Z",
     "shell.execute_reply": "2025-03-09T11:43:39.542471Z",
     "shell.execute_reply.started": "2025-03-09T11:40:25.36619Z"
    },
    "trusted": true
   },
   "outputs": [],
   "source": [
    "param_grid = {\n",
    "    'bootstrap': [False,True],\n",
    "    'max_depth': [5,8,10, 20],\n",
    "    'max_features': [3, 4, 5, None],\n",
    "    'min_samples_split': [2, 10, 12],\n",
    "    'n_estimators': [100, 200, 300]\n",
    "}\n",
    "\n",
    "rfc = RandomForestClassifier()\n",
    "\n",
    "clf = GridSearchCV(estimator = rfc, param_grid = param_grid, cv = 5, n_jobs = -1, verbose = 1)\n",
    "\n",
    "clf.fit(X_train,y_train)\n",
    "y_pred = clf.predict(X_test)\n",
    "print(\"Accuracy: \",accuracy_score(y_test,y_pred))\n",
    "print(clf.best_params_)\n",
    "print(clf.best_estimator_)"
   ]
  },
  {
   "cell_type": "code",
   "execution_count": null,
   "metadata": {
    "execution": {
     "iopub.execute_input": "2025-03-09T11:44:40.720301Z",
     "iopub.status.busy": "2025-03-09T11:44:40.719828Z",
     "iopub.status.idle": "2025-03-09T11:44:42.237351Z",
     "shell.execute_reply": "2025-03-09T11:44:42.236208Z",
     "shell.execute_reply.started": "2025-03-09T11:44:40.720244Z"
    },
    "trusted": true
   },
   "outputs": [],
   "source": [
    "clf = RandomForestClassifier(bootstrap=False, max_depth=5,max_features=None,\n",
    "                             min_samples_split=2,\n",
    "                             n_estimators=100, random_state=0)\n",
    "clf.fit(X_train,y_train)\n",
    "y_pred = clf.predict(X_test)\n",
    "print(\"Without CV: \",accuracy_score(y_test,y_pred))\n",
    "scores = cross_val_score(clf, X_train, y_train, cv=10)\n",
    "print(\"With CV: \",scores.mean())\n",
    "print(\"Precision Score: \", precision_score(y_test, y_pred))\n",
    "print(\"Recall Score: \", recall_score(y_test, y_pred))\n",
    "print(\"F1 Score: \", f1_score(y_test, y_pred))"
   ]
  },
  {
   "cell_type": "code",
   "execution_count": null,
   "metadata": {
    "execution": {
     "iopub.execute_input": "2025-03-09T11:44:49.519827Z",
     "iopub.status.busy": "2025-03-09T11:44:49.519409Z",
     "iopub.status.idle": "2025-03-09T11:44:49.533115Z",
     "shell.execute_reply": "2025-03-09T11:44:49.5317Z",
     "shell.execute_reply.started": "2025-03-09T11:44:49.519793Z"
    },
    "papermill": {
     "duration": 0.03905,
     "end_time": "2023-01-25T10:41:30.889633",
     "exception": false,
     "start_time": "2023-01-25T10:41:30.850583",
     "status": "completed"
    },
    "tags": [],
    "trusted": true
   },
   "outputs": [],
   "source": [
    "pickle.dump(clf,open('model.pkl','wb'))"
   ]
  },
  {
   "cell_type": "code",
   "execution_count": null,
   "metadata": {
    "execution": {
     "iopub.execute_input": "2025-03-09T11:44:53.217048Z",
     "iopub.status.busy": "2025-03-09T11:44:53.216631Z",
     "iopub.status.idle": "2025-03-09T11:44:53.227842Z",
     "shell.execute_reply": "2025-03-09T11:44:53.226554Z",
     "shell.execute_reply.started": "2025-03-09T11:44:53.217015Z"
    },
    "papermill": {
     "duration": 0.034159,
     "end_time": "2023-01-25T10:41:30.980616",
     "exception": false,
     "start_time": "2023-01-25T10:41:30.946457",
     "status": "completed"
    },
    "tags": [],
    "trusted": true
   },
   "outputs": [],
   "source": [
    "model = pickle.load(open('model.pkl','rb'))"
   ]
  },
  {
   "cell_type": "code",
   "execution_count": null,
   "metadata": {
    "execution": {
     "iopub.execute_input": "2025-03-09T11:44:57.8381Z",
     "iopub.status.busy": "2025-03-09T11:44:57.837691Z",
     "iopub.status.idle": "2025-03-09T11:44:57.868601Z",
     "shell.execute_reply": "2025-03-09T11:44:57.867277Z",
     "shell.execute_reply.started": "2025-03-09T11:44:57.838066Z"
    },
    "papermill": {
     "duration": 0.050696,
     "end_time": "2023-01-25T10:41:31.084982",
     "exception": false,
     "start_time": "2023-01-25T10:41:31.034286",
     "status": "completed"
    },
    "tags": [],
    "trusted": true
   },
   "outputs": [],
   "source": [
    "age = 22\n",
    "gender = 1 # 1=Male, 0=Female\n",
    "stream = 3  # Electronics And Communication': 1, \n",
    "#              'Computer Science': 2,\n",
    "#              'Information Technology': 3,\n",
    "#              'Mechanical':4,\n",
    "#              'Electrical':5,\n",
    "#              'Civil':6\n",
    "Internships = 2\n",
    "CGPA = 6\n",
    "Hostel = 1 # 1= stay in hostel, 0=not staying in hostel\n",
    "HistoryOfBacklogs = 0 # 1 = had backlogs, 0=no backlogs\n",
    "\n",
    "prediction = clf.predict([[age,gender,stream,Internships,CGPA,Hostel,HistoryOfBacklogs]])\n",
    "prediction"
   ]
  },
  {
   "cell_type": "code",
   "execution_count": null,
   "metadata": {
    "execution": {
     "iopub.execute_input": "2025-03-09T11:46:30.031391Z",
     "iopub.status.busy": "2025-03-09T11:46:30.030902Z",
     "iopub.status.idle": "2025-03-09T11:46:30.63114Z",
     "shell.execute_reply": "2025-03-09T11:46:30.629925Z",
     "shell.execute_reply.started": "2025-03-09T11:46:30.031334Z"
    },
    "papermill": {
     "duration": 0.019034,
     "end_time": "2023-01-25T10:41:31.122148",
     "exception": false,
     "start_time": "2023-01-25T10:41:31.103114",
     "status": "completed"
    },
    "tags": [],
    "trusted": true
   },
   "outputs": [],
   "source": [
    "# Import all estimators list\n",
    "from sklearn.utils import all_estimators\n",
    "\n",
    "\n",
    "estimators = all_estimators(type_filter='classifier')\n",
    "classification_estimators = []\n",
    "i = 1\n",
    "for name, class_ in estimators:\n",
    "    classification_estimators.append(class_.__name__)\n",
    "    print(f'{i}. {class_.__name__}')\n",
    "    i += 1"
   ]
  },
  {
   "cell_type": "code",
   "execution_count": null,
   "metadata": {
    "execution": {
     "iopub.execute_input": "2025-03-09T11:46:40.716811Z",
     "iopub.status.busy": "2025-03-09T11:46:40.716425Z",
     "iopub.status.idle": "2025-03-09T11:46:40.72456Z",
     "shell.execute_reply": "2025-03-09T11:46:40.723316Z",
     "shell.execute_reply.started": "2025-03-09T11:46:40.71678Z"
    },
    "trusted": true
   },
   "outputs": [],
   "source": [
    "for name, class_ in estimators:\n",
    "    module_name = str(class_).split(\"'\")[1].split(\".\")[1]\n",
    "    class_name = class_.__name__\n",
    "    print(f'from sklearn.{module_name} import {class_name}')"
   ]
  },
  {
   "cell_type": "code",
   "execution_count": null,
   "metadata": {
    "execution": {
     "iopub.execute_input": "2025-03-09T11:46:48.542763Z",
     "iopub.status.busy": "2025-03-09T11:46:48.542357Z",
     "iopub.status.idle": "2025-03-09T11:46:48.554977Z",
     "shell.execute_reply": "2025-03-09T11:46:48.553697Z",
     "shell.execute_reply.started": "2025-03-09T11:46:48.542732Z"
    },
    "trusted": true
   },
   "outputs": [],
   "source": [
    "from sklearn.ensemble import AdaBoostClassifier\n",
    "from sklearn.ensemble import BaggingClassifier\n",
    "from sklearn.naive_bayes import BernoulliNB\n",
    "from sklearn.calibration import CalibratedClassifierCV\n",
    "from sklearn.naive_bayes import CategoricalNB\n",
    "from sklearn.multioutput import ClassifierChain\n",
    "from sklearn.naive_bayes import ComplementNB\n",
    "from sklearn.tree import DecisionTreeClassifier\n",
    "from sklearn.dummy import DummyClassifier\n",
    "from sklearn.tree import ExtraTreeClassifier\n",
    "from sklearn.ensemble import ExtraTreesClassifier\n",
    "from sklearn.naive_bayes import GaussianNB\n",
    "from sklearn.gaussian_process import GaussianProcessClassifier\n",
    "from sklearn.ensemble import GradientBoostingClassifier\n",
    "from sklearn.ensemble import HistGradientBoostingClassifier\n",
    "from sklearn.neighbors import KNeighborsClassifier\n",
    "from sklearn.semi_supervised import LabelPropagation\n",
    "from sklearn.semi_supervised import LabelSpreading\n",
    "from sklearn.discriminant_analysis import LinearDiscriminantAnalysis\n",
    "from sklearn.svm import LinearSVC\n",
    "from sklearn.linear_model import LogisticRegression\n",
    "from sklearn.linear_model import LogisticRegressionCV\n",
    "from sklearn.neural_network import MLPClassifier\n",
    "from sklearn.multioutput import MultiOutputClassifier\n",
    "from sklearn.naive_bayes import MultinomialNB\n",
    "from sklearn.neighbors import NearestCentroid\n",
    "from sklearn.svm import NuSVC\n",
    "from sklearn.multiclass import OneVsOneClassifier\n",
    "from sklearn.multiclass import OneVsRestClassifier\n",
    "from sklearn.multiclass import OutputCodeClassifier\n",
    "from sklearn.linear_model import PassiveAggressiveClassifier\n",
    "from sklearn.linear_model import Perceptron\n",
    "from sklearn.discriminant_analysis import QuadraticDiscriminantAnalysis\n",
    "from sklearn.neighbors import RadiusNeighborsClassifier\n",
    "from sklearn.ensemble import RandomForestClassifier\n",
    "from sklearn.linear_model import RidgeClassifier\n",
    "from sklearn.linear_model import RidgeClassifierCV\n",
    "from sklearn.linear_model import SGDClassifier\n",
    "from sklearn.svm import SVC\n",
    "from sklearn.ensemble import StackingClassifier\n",
    "from sklearn.ensemble import VotingClassifier\n",
    "\n",
    "def warn(*args, **kwargs):\n",
    "    pass\n",
    "import warnings\n",
    "warnings.warn = warn"
   ]
  },
  {
   "cell_type": "code",
   "execution_count": null,
   "metadata": {
    "execution": {
     "iopub.execute_input": "2025-03-09T11:46:55.131866Z",
     "iopub.status.busy": "2025-03-09T11:46:55.131379Z",
     "iopub.status.idle": "2025-03-09T11:47:34.529702Z",
     "shell.execute_reply": "2025-03-09T11:47:34.52834Z",
     "shell.execute_reply.started": "2025-03-09T11:46:55.131782Z"
    },
    "trusted": true
   },
   "outputs": [],
   "source": [
    "\n",
    "for estimator in classification_estimators:\n",
    "    try:\n",
    "        print(\"ALgorithm: \", estimator)\n",
    "        clf = eval(estimator+'()')\n",
    "        clf.fit(X_train,y_train)\n",
    "        y_pred = clf.predict(X_test)\n",
    "        print(\"Without CV: \",accuracy_score(y_test,y_pred))\n",
    "        scores = cross_val_score(clf, X_train, y_train, cv=10)\n",
    "        print(\"With CV: \",scores.mean())\n",
    "        print(\"Precision Score: \", precision_score(y_test, y_pred))\n",
    "        print(\"Recall Score: \", recall_score(y_test, y_pred))\n",
    "        print(\"F1 Score: \", f1_score(y_test, y_pred))\n",
    "        print(\"____________________________________________________\")\n",
    "    except:\n",
    "        print(\"Error\")\n",
    "    \n"
   ]
  },
  {
   "cell_type": "code",
   "execution_count": null,
   "metadata": {
    "execution": {
     "iopub.execute_input": "2025-03-10T05:43:09.192286Z",
     "iopub.status.busy": "2025-03-10T05:43:09.191879Z",
     "iopub.status.idle": "2025-03-10T05:43:09.197058Z",
     "shell.execute_reply": "2025-03-10T05:43:09.195939Z",
     "shell.execute_reply.started": "2025-03-10T05:43:09.192252Z"
    },
    "trusted": true
   },
   "outputs": [],
   "source": [
    "#for estimator in classification_estimators:\n",
    "#    try:\n",
    "#        print(\"ALgorithm: \", estimator)\n",
    "#        clf = eval(estimator+'()')\n",
    "#        clf.fit(X_train_scale,y_train)\n",
    "#        y_pred = clf.predict(X_test_scale)\n",
    "#        print(\"Without CV: \",accuracy_score(y_test,y_pred))\n",
    "#        scores = cross_val_score(clf, X_train_scale, y_train, cv=5)\n",
    "#        print(\"With CV: \",scores.mean())\n",
    "#        print(\"Precision Score: \", precision_score(y_test, y_pred))\n",
    "#        print(\"Recall Score: \", recall_score(y_test, y_pred))\n",
    "#        print(\"F1 Score: \", f1_score(y_test, y_pred))\n",
    "#        print(\"____________________________________________________\")\n",
    "#    except:\n",
    "#        print(\"Error\")"
   ]
  },
  {
   "cell_type": "code",
   "execution_count": null,
   "metadata": {
    "execution": {
     "iopub.execute_input": "2025-03-10T05:39:59.396099Z",
     "iopub.status.busy": "2025-03-10T05:39:59.395083Z",
     "iopub.status.idle": "2025-03-10T05:39:59.401343Z",
     "shell.execute_reply": "2025-03-10T05:39:59.399843Z",
     "shell.execute_reply.started": "2025-03-10T05:39:59.396054Z"
    },
    "trusted": true
   },
   "outputs": [],
   "source": [
    "#parameters = {\n",
    "##    \"loss\":[\"deviance\"],\n",
    "#    \"learning_rate\": [0.05, 0.1, 0.15, 0.2],\n",
    "#    \"min_samples_split\": np.linspace(0.1, 0.5, 12),\n",
    "#    \"min_samples_leaf\": np.linspace(0.1, 0.5, 12),\n",
    "#    \"max_depth\":[8,10,12],\n",
    "#    \"max_features\":[\"log2\",\"sqrt\"],\n",
    "#    \"criterion\": [\"friedman_mse\"],\n",
    "#    \"subsample\":[0.5,0.85, 0.9, 1.0],\n",
    "#    \"n_estimators\":[10, 50, 80]\n",
    "#    }\n",
    "\n",
    "#clf = GridSearchCV(GradientBoostingClassifier(), parameters, cv=10, n_jobs=-1, verbose = 1)\n",
    "#clf.fit(X_train,y_train)\n",
    "#y_pred = clf.predict(X_test)\n",
    "##print(\"Accuracy: \",accuracy_score(y_test,y_pred))\n",
    "#print(clf.best_params_)\n",
    "#print(clf.best_estimator_)"
   ]
  },
  {
   "cell_type": "code",
   "execution_count": null,
   "metadata": {
    "execution": {
     "iopub.execute_input": "2025-03-10T05:42:41.713109Z",
     "iopub.status.busy": "2025-03-10T05:42:41.712143Z",
     "iopub.status.idle": "2025-03-10T05:42:41.717614Z",
     "shell.execute_reply": "2025-03-10T05:42:41.716364Z",
     "shell.execute_reply.started": "2025-03-10T05:42:41.713069Z"
    },
    "trusted": true
   },
   "outputs": [],
   "source": [
    "#clf = GradientBoostingClassifier(learning_rate=0.2, max_depth=8, max_features='log2',\n",
    "#                           min_samples_leaf=0.1, min_samples_split=0.1,\n",
    "#                           n_estimators=50)\n",
    "#clf.fit(X_train,y_train)\n",
    "#y_pred = clf.predict(X_test)\n",
    "#print(\"Without CV: \",accuracy_score(y_test,y_pred))\n",
    "#scores = cross_val_score(clf, X_train, y_train, cv=10)\n",
    "#print(\"With CV: \",scores.mean())\n",
    "#print(\"Precision Score: \", precision_score(y_test, y_pred))\n",
    "#print(\"Recall Score: \", recall_score(y_test, y_pred))\n",
    "#print(\"F1 Score: \", f1_score(y_test, y_pred))"
   ]
  }
 ],
 "metadata": {
  "kaggle": {
   "accelerator": "none",
   "dataSources": [
    {
     "datasetId": 1565495,
     "sourceId": 2710996,
     "sourceType": "datasetVersion"
    }
   ],
   "dockerImageVersionId": 30369,
   "isGpuEnabled": false,
   "isInternetEnabled": false,
   "language": "python",
   "sourceType": "notebook"
  },
  "kernelspec": {
   "display_name": "Python 3",
   "language": "python",
   "name": "python3"
  },
  "language_info": {
   "codemirror_mode": {
    "name": "ipython",
    "version": 3
   },
   "file_extension": ".py",
   "mimetype": "text/x-python",
   "name": "python",
   "nbconvert_exporter": "python",
   "pygments_lexer": "ipython3",
   "version": "3.7.12"
  }
 },
 "nbformat": 4,
 "nbformat_minor": 4
}
